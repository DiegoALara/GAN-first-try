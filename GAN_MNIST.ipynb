{
  "cells": [
    {
      "cell_type": "code",
      "execution_count": null,
      "metadata": {
        "id": "jGCmIcYxios8"
      },
      "outputs": [],
      "source": [
        "%matplotlib inline\n",
        "\n",
        "import matplotlib.pyplot as plt\n",
        "import numpy as np\n",
        "from tensorflow.keras.optimizers import Adam \n",
        "from keras.datasets import mnist\n",
        "from keras.layers import Dense, Flatten, Reshape\n",
        "from keras.layers.advanced_activations import LeakyReLU\n",
        "from keras.models import Sequential\n",
        "#from keras.optimizers import Adam"
      ]
    },
    {
      "cell_type": "code",
      "execution_count": null,
      "metadata": {
        "id": "CBiXSYvfi4KW"
      },
      "outputs": [],
      "source": [
        "img_rows = 28\n",
        "img_cols = 28\n",
        "channels = 1\n",
        "\n",
        "# Input image dimensions\n",
        "img_shape = (img_rows, img_cols, channels)\n",
        "\n",
        "# Size of the noise vector, used as input to the Generator\n",
        "z_dim = 100"
      ]
    },
    {
      "cell_type": "markdown",
      "metadata": {
        "id": "qrQbtYInmqeF"
      },
      "source": [
        "# Generador"
      ]
    },
    {
      "cell_type": "code",
      "execution_count": null,
      "metadata": {
        "id": "TmryyqA6mnjy"
      },
      "outputs": [],
      "source": [
        "def build_generator(img_shape, z_dim):\n",
        "\n",
        "    model = Sequential()\n",
        "\n",
        "    # Fully connected layer\n",
        "    model.add(Dense(128, input_dim=z_dim))\n",
        "\n",
        "    # Leaky ReLU activation\n",
        "    model.add(LeakyReLU(alpha=0.01))\n",
        "\n",
        "    # Output layer with tanh activation\n",
        "    model.add(Dense(28 * 28 * 1, activation='tanh'))\n",
        "\n",
        "    # Reshape the Generator output to image dimensions\n",
        "    model.add(Reshape(img_shape))\n",
        "\n",
        "    return model"
      ]
    },
    {
      "cell_type": "markdown",
      "metadata": {
        "id": "p42uAESPmuBB"
      },
      "source": [
        "# Discriminator"
      ]
    },
    {
      "cell_type": "code",
      "execution_count": null,
      "metadata": {
        "id": "je5g55F8mpqm"
      },
      "outputs": [],
      "source": [
        "def build_discriminator(img_shape):\n",
        "\n",
        "    model = Sequential()\n",
        "\n",
        "    # Flatten the input image\n",
        "    model.add(Flatten(input_shape=img_shape))\n",
        "\n",
        "    # Fully connected layer\n",
        "    model.add(Dense(128))\n",
        "\n",
        "    # Leaky ReLU activation\n",
        "    model.add(LeakyReLU(alpha=0.01))\n",
        "\n",
        "    # Output layer with sigmoid activation\n",
        "    model.add(Dense(1, activation='sigmoid'))\n",
        "\n",
        "    return model"
      ]
    },
    {
      "cell_type": "markdown",
      "metadata": {
        "id": "qw4BqW5Vm0xH"
      },
      "source": [
        "# Build the Model"
      ]
    },
    {
      "cell_type": "code",
      "execution_count": null,
      "metadata": {
        "id": "JODIa2FFmyHf"
      },
      "outputs": [],
      "source": [
        "def build_gan(generator, discriminator):\n",
        "\n",
        "    model = Sequential()\n",
        "\n",
        "    # Combined Generator -> Discriminator model\n",
        "    model.add(generator)\n",
        "    model.add(discriminator)\n",
        "\n",
        "    return model"
      ]
    },
    {
      "cell_type": "code",
      "execution_count": null,
      "metadata": {
        "id": "wjUwZ6qYmz_7"
      },
      "outputs": [],
      "source": [
        "# Build and compile the Discriminator\n",
        "discriminator = build_discriminator(img_shape)\n",
        "discriminator.compile(loss='binary_crossentropy',\n",
        "                      optimizer=Adam(),\n",
        "                      metrics=['accuracy'])\n",
        "\n",
        "# Build the Generator\n",
        "generator = build_generator(img_shape, z_dim)\n",
        "\n",
        "# Keep Discriminator’s parameters constant for Generator training\n",
        "discriminator.trainable = False\n",
        "\n",
        "# Build and compile GAN model with fixed Discriminator to train the Generator\n",
        "gan = build_gan(generator, discriminator)\n",
        "gan.compile(loss='binary_crossentropy', optimizer=Adam())"
      ]
    },
    {
      "cell_type": "code",
      "execution_count": null,
      "metadata": {
        "id": "_XszXLMhm8CM"
      },
      "outputs": [],
      "source": [
        ""
      ]
    },
    {
      "cell_type": "markdown",
      "metadata": {
        "id": "alnM5RASm6ts"
      },
      "source": [
        "# Training"
      ]
    },
    {
      "cell_type": "code",
      "execution_count": null,
      "metadata": {
        "id": "HxPqh4x1m5hb"
      },
      "outputs": [],
      "source": [
        "losses = []\n",
        "accuracies = []\n",
        "iteration_checkpoints = []\n",
        "\n",
        "\n",
        "def train(iterations, batch_size, sample_interval):\n",
        "\n",
        "    # Load the MNIST dataset\n",
        "    (X_train, _), (_, _) = mnist.load_data()\n",
        "\n",
        "    # Rescale [0, 255] grayscale pixel values to [-1, 1]\n",
        "    X_train = X_train / 127.5 - 1.0\n",
        "    X_train = np.expand_dims(X_train, axis=3)\n",
        "\n",
        "    # Labels for real images: all ones\n",
        "    real = np.ones((batch_size, 1))\n",
        "\n",
        "    # Labels for fake images: all zeros\n",
        "    fake = np.zeros((batch_size, 1))\n",
        "\n",
        "    for iteration in range(iterations):\n",
        "\n",
        "        # -------------------------\n",
        "        #  Train the Discriminator\n",
        "        # -------------------------\n",
        "\n",
        "        # Get a random batch of real images\n",
        "        idx = np.random.randint(0, X_train.shape[0], batch_size)\n",
        "        imgs = X_train[idx]\n",
        "\n",
        "        # Generate a batch of fake images\n",
        "        z = np.random.normal(0, 1, (batch_size, 100))\n",
        "        gen_imgs = generator.predict(z)\n",
        "\n",
        "        # Train Discriminator\n",
        "        d_loss_real = discriminator.train_on_batch(imgs, real)\n",
        "        d_loss_fake = discriminator.train_on_batch(gen_imgs, fake)\n",
        "        d_loss, accuracy = 0.5 * np.add(d_loss_real, d_loss_fake)\n",
        "\n",
        "        # ---------------------\n",
        "        #  Train the Generator\n",
        "        # ---------------------\n",
        "\n",
        "        # Generate a batch of fake images\n",
        "        z = np.random.normal(0, 1, (batch_size, 100))\n",
        "        gen_imgs = generator.predict(z)\n",
        "\n",
        "        # Train Generator\n",
        "        g_loss = gan.train_on_batch(z, real)\n",
        "\n",
        "        if (iteration + 1) % sample_interval == 0:\n",
        "\n",
        "            # Save losses and accuracies so they can be plotted after training\n",
        "            losses.append((d_loss, g_loss))\n",
        "            accuracies.append(100.0 * accuracy)\n",
        "            iteration_checkpoints.append(iteration + 1)\n",
        "\n",
        "            # Output training progress\n",
        "            print(\"%d [D loss: %f, acc.: %.2f%%] [G loss: %f]\" %\n",
        "                  (iteration + 1, d_loss, 100.0 * accuracy, g_loss))\n",
        "\n",
        "            # Output a sample of generated image\n",
        "            sample_images(generator)"
      ]
    },
    {
      "cell_type": "code",
      "execution_count": null,
      "metadata": {
        "id": "ygd8JqfHnETC"
      },
      "outputs": [],
      "source": [
        "def sample_images(generator, image_grid_rows=4, image_grid_columns=4):\n",
        "\n",
        "    # Sample random noise\n",
        "    z = np.random.normal(0, 1, (image_grid_rows * image_grid_columns, z_dim))\n",
        "\n",
        "    # Generate images from random noise\n",
        "    gen_imgs = generator.predict(z)\n",
        "\n",
        "    # Rescale image pixel values to [0, 1]\n",
        "    gen_imgs = 0.5 * gen_imgs + 0.5\n",
        "\n",
        "    # Set image grid\n",
        "    fig, axs = plt.subplots(image_grid_rows,\n",
        "                            image_grid_columns,\n",
        "                            figsize=(4, 4),\n",
        "                            sharey=True,\n",
        "                            sharex=True)\n",
        "\n",
        "    cnt = 0\n",
        "    for i in range(image_grid_rows):\n",
        "        for j in range(image_grid_columns):\n",
        "            # Output a grid of images\n",
        "            axs[i, j].imshow(gen_imgs[cnt, :, :, 0], cmap='gray')\n",
        "            axs[i, j].axis('off')\n",
        "            cnt += 1"
      ]
    },
    {
      "cell_type": "markdown",
      "metadata": {
        "id": "-aeYDUPznLpW"
      },
      "source": [
        "# Train the GAN and view output"
      ]
    },
    {
      "cell_type": "code",
      "execution_count": null,
      "metadata": {
        "colab": {
          "background_save": true,
          "base_uri": "https://localhost:8080/"
        },
        "id": "gmE6pFzdnIsi",
        "outputId": "fabbdf83-7438-4e82-8eef-a74c897a7bb1"
      },
      "outputs": [
        {
          "name": "stdout",
          "output_type": "stream",
          "text": [
            "Downloading data from https://storage.googleapis.com/tensorflow/tf-keras-datasets/mnist.npz\n",
            "11493376/11490434 [==============================] - 0s 0us/step\n",
            "11501568/11490434 [==============================] - 0s 0us/step\n",
            "1000 [D loss: 0.031750, acc.: 99.22%] [G loss: 4.507185]\n",
            "2000 [D loss: 0.026203, acc.: 99.61%] [G loss: 5.908634]\n",
            "3000 [D loss: 0.160865, acc.: 92.97%] [G loss: 4.716996]\n",
            "4000 [D loss: 0.080417, acc.: 97.27%] [G loss: 5.873357]\n",
            "5000 [D loss: 0.320875, acc.: 90.23%] [G loss: 4.355171]\n",
            "6000 [D loss: 0.201482, acc.: 93.36%] [G loss: 5.018293]\n",
            "7000 [D loss: 0.219312, acc.: 91.80%] [G loss: 4.494471]\n",
            "8000 [D loss: 0.349481, acc.: 86.33%] [G loss: 3.446932]\n",
            "9000 [D loss: 0.402896, acc.: 83.98%] [G loss: 3.203900]\n",
            "10000 [D loss: 0.243149, acc.: 89.84%] [G loss: 4.170001]\n",
            "11000 [D loss: 0.318771, acc.: 85.55%] [G loss: 3.498851]\n",
            "12000 [D loss: 0.444568, acc.: 82.03%] [G loss: 2.386146]\n",
            "13000 [D loss: 0.261116, acc.: 88.67%] [G loss: 4.098898]\n",
            "14000 [D loss: 0.357203, acc.: 84.38%] [G loss: 3.139461]\n",
            "15000 [D loss: 0.315276, acc.: 86.33%] [G loss: 2.597145]\n",
            "16000 [D loss: 0.394909, acc.: 81.64%] [G loss: 2.977571]\n",
            "17000 [D loss: 0.345589, acc.: 82.81%] [G loss: 3.163118]\n",
            "18000 [D loss: 0.396612, acc.: 82.03%] [G loss: 2.959695]\n",
            "19000 [D loss: 0.448927, acc.: 78.91%] [G loss: 2.325900]\n",
            "20000 [D loss: 0.459814, acc.: 76.56%] [G loss: 2.265728]\n",
            "21000 [D loss: 0.438390, acc.: 83.20%] [G loss: 2.304085]\n"
          ]
        },
        {
          "name": "stderr",
          "output_type": "stream",
          "text": [
            "/usr/local/lib/python3.7/dist-packages/ipykernel_launcher.py:17: RuntimeWarning: More than 20 figures have been opened. Figures created through the pyplot interface (`matplotlib.pyplot.figure`) are retained until explicitly closed and may consume too much memory. (To control this warning, see the rcParam `figure.max_open_warning`).\n"
          ]
        },
        {
          "name": "stdout",
          "output_type": "stream",
          "text": [
            "22000 [D loss: 0.413063, acc.: 83.59%] [G loss: 2.465989]\n",
            "23000 [D loss: 0.430443, acc.: 80.86%] [G loss: 2.618278]\n",
            "24000 [D loss: 0.298048, acc.: 84.38%] [G loss: 2.510067]\n",
            "25000 [D loss: 0.349043, acc.: 83.98%] [G loss: 2.638561]\n",
            "26000 [D loss: 0.365972, acc.: 85.55%] [G loss: 2.692231]\n"
          ]
        }
      ],
      "source": [
        "# Set hyperparameters\n",
        "iterations = 50000\n",
        "batch_size = 128\n",
        "sample_interval = 1000\n",
        "\n",
        "# Train the GAN for the specified number of iterations\n",
        "train(iterations, batch_size, sample_interval)"
      ]
    },
    {
      "cell_type": "code",
      "execution_count": null,
      "metadata": {
        "id": "9Y4bFEk4MlnI"
      },
      "outputs": [],
      "source": [
        ""
      ]
    },
    {
      "cell_type": "code",
      "execution_count": null,
      "metadata": {
        "colab": {
          "base_uri": "https://localhost:8080/",
          "height": 240
        },
        "id": "SkvWc1xsnR_C",
        "outputId": "8134fe38-b348-4331-b58a-ea657827fcf3"
      },
      "outputs": [
        {
          "ename": "NameError",
          "evalue": "ignored",
          "output_type": "error",
          "traceback": [
            "\u001b[0;31m---------------------------------------------------------------------------\u001b[0m",
            "\u001b[0;31mNameError\u001b[0m                                 Traceback (most recent call last)",
            "\u001b[0;32m<ipython-input-1-99e847d4bacb>\u001b[0m in \u001b[0;36m<module>\u001b[0;34m()\u001b[0m\n\u001b[0;32m----> 1\u001b[0;31m \u001b[0mlosses\u001b[0m \u001b[0;34m=\u001b[0m \u001b[0mnp\u001b[0m\u001b[0;34m.\u001b[0m\u001b[0marray\u001b[0m\u001b[0;34m(\u001b[0m\u001b[0mlosses\u001b[0m\u001b[0;34m)\u001b[0m\u001b[0;34m\u001b[0m\u001b[0;34m\u001b[0m\u001b[0m\n\u001b[0m\u001b[1;32m      2\u001b[0m \u001b[0;34m\u001b[0m\u001b[0m\n\u001b[1;32m      3\u001b[0m \u001b[0;31m# Plot training losses for Discriminator and Generator\u001b[0m\u001b[0;34m\u001b[0m\u001b[0;34m\u001b[0m\u001b[0;34m\u001b[0m\u001b[0m\n\u001b[1;32m      4\u001b[0m \u001b[0mplt\u001b[0m\u001b[0;34m.\u001b[0m\u001b[0mfigure\u001b[0m\u001b[0;34m(\u001b[0m\u001b[0mfigsize\u001b[0m\u001b[0;34m=\u001b[0m\u001b[0;34m(\u001b[0m\u001b[0;36m15\u001b[0m\u001b[0;34m,\u001b[0m \u001b[0;36m5\u001b[0m\u001b[0;34m)\u001b[0m\u001b[0;34m)\u001b[0m\u001b[0;34m\u001b[0m\u001b[0;34m\u001b[0m\u001b[0m\n\u001b[1;32m      5\u001b[0m \u001b[0mplt\u001b[0m\u001b[0;34m.\u001b[0m\u001b[0mplot\u001b[0m\u001b[0;34m(\u001b[0m\u001b[0miteration_checkpoints\u001b[0m\u001b[0;34m,\u001b[0m \u001b[0mlosses\u001b[0m\u001b[0;34m.\u001b[0m\u001b[0mT\u001b[0m\u001b[0;34m[\u001b[0m\u001b[0;36m0\u001b[0m\u001b[0;34m]\u001b[0m\u001b[0;34m,\u001b[0m \u001b[0mlabel\u001b[0m\u001b[0;34m=\u001b[0m\u001b[0;34m\"Discriminator loss\"\u001b[0m\u001b[0;34m)\u001b[0m\u001b[0;34m\u001b[0m\u001b[0;34m\u001b[0m\u001b[0m\n",
            "\u001b[0;31mNameError\u001b[0m: name 'np' is not defined"
          ]
        }
      ],
      "source": [
        "losses = np.array(losses)\n",
        "\n",
        "# Plot training losses for Discriminator and Generator\n",
        "plt.figure(figsize=(15, 5))\n",
        "plt.plot(iteration_checkpoints, losses.T[0], label=\"Discriminator loss\")\n",
        "plt.plot(iteration_checkpoints, losses.T[1], label=\"Generator loss\")\n",
        "\n",
        "plt.xticks(iteration_checkpoints, rotation=90)\n",
        "\n",
        "plt.title(\"Training Loss\")\n",
        "plt.xlabel(\"Iteration\")\n",
        "plt.ylabel(\"Loss\")\n",
        "plt.legend()"
      ]
    },
    {
      "cell_type": "code",
      "execution_count": null,
      "metadata": {
        "id": "Jl-cLP70werN"
      },
      "outputs": [],
      "source": [
        "accuracies = np.array(accuracies)\n",
        "\n",
        "# Plot Discriminator accuracy\n",
        "plt.figure(figsize=(15, 5))\n",
        "plt.plot(iteration_checkpoints, accuracies, label=\"Discriminator accuracy\")\n",
        "\n",
        "plt.xticks(iteration_checkpoints, rotation=90)\n",
        "plt.yticks(range(0, 100, 5))\n",
        "\n",
        "plt.title(\"Discriminator Accuracy\")\n",
        "plt.xlabel(\"Iteration\")\n",
        "plt.ylabel(\"Accuracy (%)\")\n",
        "plt.legend()"
      ]
    },
    {
      "cell_type": "code",
      "execution_count": null,
      "metadata": {
        "id": "bT-To0lCwhLM"
      },
      "outputs": [],
      "source": [
        ""
      ]
    }
  ],
  "metadata": {
    "accelerator": "TPU",
    "colab": {
      "collapsed_sections": [],
      "name": "GAN MNIST",
      "provenance": []
    },
    "kernelspec": {
      "display_name": "Python 3",
      "name": "python3"
    },
    "language_info": {
      "name": "python"
    }
  },
  "nbformat": 4,
  "nbformat_minor": 0
}